{
 "cells": [
  {
   "cell_type": "markdown",
   "metadata": {},
   "source": [
    "# User-Defined Functions & Scoping"
   ]
  },
  {
   "cell_type": "markdown",
   "metadata": {},
   "source": [
    "## Tasks Today:\n",
    "\n",
    "\n",
    "1) Functions <br>\n",
    " &nbsp;&nbsp;&nbsp;&nbsp; a) User-Defined vs. Built-In Functions <br>\n",
    " &nbsp;&nbsp;&nbsp;&nbsp; b) Accepting Parameters <br>\n",
    " &nbsp;&nbsp;&nbsp;&nbsp; c) Default Parameters <br>\n",
    " &nbsp;&nbsp;&nbsp;&nbsp; d) Making an Argument Optional <br>\n",
    " &nbsp;&nbsp;&nbsp;&nbsp; e) Keyword Arguments <br>\n",
    " &nbsp;&nbsp;&nbsp;&nbsp; f) Returning Values <br>\n",
    " &nbsp;&nbsp;&nbsp;&nbsp; g) *args <br>\n",
    " &nbsp;&nbsp;&nbsp;&nbsp; h) Docstring <br>\n",
    " &nbsp;&nbsp;&nbsp;&nbsp; i) Using a User Function in a Loop <br>\n",
    "2) Scope\n",
    "3) Creating more User-Defined functions "
   ]
  },
  {
   "cell_type": "markdown",
   "metadata": {},
   "source": [
    "\n",
    "## Functions"
   ]
  },
  {
   "cell_type": "markdown",
   "metadata": {},
   "source": [
    "##### User-Defined vs. Built-In Functions"
   ]
  },
  {
   "cell_type": "code",
   "execution_count": 2,
   "metadata": {},
   "outputs": [
    {
     "name": "stdout",
     "output_type": "stream",
     "text": [
      "hello\n"
     ]
    },
    {
     "data": {
      "text/plain": [
       "'Hello World from Coding Temple'"
      ]
     },
     "execution_count": 2,
     "metadata": {},
     "output_type": "execute_result"
    }
   ],
   "source": [
    "print(\"hello\")\n",
    "\n",
    "#user-defined function\n",
    "def say_hello(): \n",
    "    return \"Hello World from Coding Temple\"\n",
    "\n",
    "say_hello()"
   ]
  },
  {
   "cell_type": "markdown",
   "metadata": {},
   "source": [
    "##### Accepting Parameters"
   ]
  },
  {
   "cell_type": "code",
   "execution_count": 6,
   "metadata": {
    "scrolled": true
   },
   "outputs": [
    {
     "name": "stdout",
     "output_type": "stream",
     "text": [
      "Hi my last name is Swiggum and my first name is Alex\n"
     ]
    }
   ],
   "source": [
    "#Order always matters! Parameters are based on order\n",
    "#pass any type of variable into a function as a parameter (strings, integers, floats, booleans, lists, etc)\n",
    "\n",
    "def print_full_name(first_name, last_name):\n",
    "    return f\"Hi my last name is {last_name} and my first name is {first_name}\"\n",
    "\n",
    "print(print_full_name(\"Alex\", \"Swiggum\"))"
   ]
  },
  {
   "cell_type": "markdown",
   "metadata": {},
   "source": [
    "##### Default Parameters"
   ]
  },
  {
   "cell_type": "code",
   "execution_count": 9,
   "metadata": {},
   "outputs": [
    {
     "name": "stdout",
     "output_type": "stream",
     "text": [
      "The name is Bond......James Bond.\n"
     ]
    }
   ],
   "source": [
    "#MUST come after non-default parameters at ALL  TIMES... or else\n",
    "\n",
    "def agent_name(first_name, last_name = \"Bond\"):\n",
    "    return f\"The name is {last_name}......{first_name} {last_name}.\"\n",
    "\n",
    "print(agent_name('James'))"
   ]
  },
  {
   "cell_type": "code",
   "execution_count": 10,
   "metadata": {},
   "outputs": [
    {
     "name": "stdout",
     "output_type": "stream",
     "text": [
      "Your birthday is the 11th day of October and you were born in 1980.\n"
     ]
    }
   ],
   "source": [
    "def oct_birthday(day, year, month = \"October\"):\n",
    "    return f\"Your birthday is the {day} day of {month} and you were born in {year}.\"\n",
    "\n",
    "print(oct_birthday(\"11th\", 1980))"
   ]
  },
  {
   "cell_type": "markdown",
   "metadata": {},
   "source": [
    "##### Making an Argument Optional"
   ]
  },
  {
   "cell_type": "code",
   "execution_count": 16,
   "metadata": {},
   "outputs": [
    {
     "name": "stdout",
     "output_type": "stream",
     "text": [
      "Hello my name is Mr.  Ed and I am a pretty cool horse.....naaaayy.\n"
     ]
    }
   ],
   "source": [
    "def print_horse_name(first, middle = \" \", last = \"Ed\"):\n",
    "    return f\"Hello my name is {first} {middle} {last} and I am a pretty cool horse.....naaaayy.\"\n",
    "\n",
    "print(print_horse_name(\"Mr.\"))"
   ]
  },
  {
   "cell_type": "markdown",
   "metadata": {},
   "source": [
    "##### Keyword Arguments"
   ]
  },
  {
   "cell_type": "code",
   "execution_count": 21,
   "metadata": {},
   "outputs": [
    {
     "name": "stdout",
     "output_type": "stream",
     "text": [
      "Harry Potter's power is invisibility\n",
      "Superman's power is flying\n"
     ]
    }
   ],
   "source": [
    "def print_hero_name(name, power = 'invisibility'):\n",
    "    return f\"{name}'s power is {power}\"\n",
    "\n",
    "print(print_hero_name(\"Harry Potter\"))\n",
    "print(print_hero_name(power= \"flying\", name = \"Superman\"))"
   ]
  },
  {
   "cell_type": "code",
   "execution_count": 28,
   "metadata": {},
   "outputs": [
    {
     "name": "stdout",
     "output_type": "stream",
     "text": [
      "You've just landed in Manchester in the United Kingdom.\n"
     ]
    },
    {
     "ename": "NameError",
     "evalue": "name 'actor' is not defined",
     "output_type": "error",
     "traceback": [
      "\u001b[0;31m---------------------------------------------------------------------------\u001b[0m",
      "\u001b[0;31mNameError\u001b[0m                                 Traceback (most recent call last)",
      "Input \u001b[0;32mIn [28]\u001b[0m, in \u001b[0;36m<cell line: 18>\u001b[0;34m()\u001b[0m\n\u001b[1;32m     15\u001b[0m \u001b[38;5;28;01mdef\u001b[39;00m \u001b[38;5;21mfavorite_movie\u001b[39m(movie_name, action \u001b[38;5;241m=\u001b[39m \u001b[38;5;124m\"\u001b[39m\u001b[38;5;124m \u001b[39m\u001b[38;5;124m\"\u001b[39m, genre \u001b[38;5;241m=\u001b[39m \u001b[38;5;124m\"\u001b[39m\u001b[38;5;124mdrama\u001b[39m\u001b[38;5;124m\"\u001b[39m):\n\u001b[1;32m     16\u001b[0m     \u001b[38;5;28;01mreturn\u001b[39;00m \u001b[38;5;124mf\u001b[39m\u001b[38;5;124m\"\u001b[39m\u001b[38;5;124mMy favorite \u001b[39m\u001b[38;5;132;01m{\u001b[39;00mgenre\u001b[38;5;132;01m}\u001b[39;00m\u001b[38;5;124m movie is \u001b[39m\u001b[38;5;132;01m{\u001b[39;00mmovie_name\u001b[38;5;132;01m}\u001b[39;00m\u001b[38;5;124m \u001b[39m\u001b[38;5;132;01m{\u001b[39;00mactor\u001b[38;5;132;01m}\u001b[39;00m\u001b[38;5;124m!\u001b[39m\u001b[38;5;124m\"\u001b[39m\n\u001b[0;32m---> 18\u001b[0m \u001b[38;5;28mprint\u001b[39m(\u001b[43mfavorite_movie\u001b[49m\u001b[43m(\u001b[49m\u001b[38;5;124;43m\"\u001b[39;49m\u001b[38;5;124;43mThe Young Victoria\u001b[39;49m\u001b[38;5;124;43m\"\u001b[39;49m\u001b[43m)\u001b[49m)\n",
      "Input \u001b[0;32mIn [28]\u001b[0m, in \u001b[0;36mfavorite_movie\u001b[0;34m(movie_name, action, genre)\u001b[0m\n\u001b[1;32m     15\u001b[0m \u001b[38;5;28;01mdef\u001b[39;00m \u001b[38;5;21mfavorite_movie\u001b[39m(movie_name, action \u001b[38;5;241m=\u001b[39m \u001b[38;5;124m\"\u001b[39m\u001b[38;5;124m \u001b[39m\u001b[38;5;124m\"\u001b[39m, genre \u001b[38;5;241m=\u001b[39m \u001b[38;5;124m\"\u001b[39m\u001b[38;5;124mdrama\u001b[39m\u001b[38;5;124m\"\u001b[39m):\n\u001b[0;32m---> 16\u001b[0m     \u001b[38;5;28;01mreturn\u001b[39;00m \u001b[38;5;124mf\u001b[39m\u001b[38;5;124m\"\u001b[39m\u001b[38;5;124mMy favorite \u001b[39m\u001b[38;5;132;01m{\u001b[39;00mgenre\u001b[38;5;132;01m}\u001b[39;00m\u001b[38;5;124m movie is \u001b[39m\u001b[38;5;132;01m{\u001b[39;00mmovie_name\u001b[38;5;132;01m}\u001b[39;00m\u001b[38;5;124m \u001b[39m\u001b[38;5;132;01m{\u001b[39;00mactor\u001b[38;5;132;01m}\u001b[39;00m\u001b[38;5;124m!\u001b[39m\u001b[38;5;124m\"\u001b[39m\n",
      "\u001b[0;31mNameError\u001b[0m: name 'actor' is not defined"
     ]
    }
   ],
   "source": [
    "# Create a function (or more than one) that accepts positional, default, and optional arguments.\n",
    "\n",
    "#positional \n",
    "# def \n",
    "\n",
    "\n",
    "\n",
    "#default\n",
    "def city_location(city_name, country_name = \"United Kingdom\"):\n",
    "    return f\"You've just landed in {city_name} in the {country_name}.\"\n",
    "\n",
    "print(city_location(\"Manchester\"))\n",
    "\n",
    "#optional\n",
    "def favorite_movie(movie_name, action = \" \", genre = \"drama\"):\n",
    "    return f\"My favorite {genre} movie is {movie_name} {actor}!\"\n",
    "\n",
    "print(favorite_movie(\"The Young Victoria\"))\n",
    "\n",
    "\n",
    "\n"
   ]
  },
  {
   "cell_type": "markdown",
   "metadata": {},
   "source": [
    "# Creating a start, stop, step function"
   ]
  },
  {
   "cell_type": "code",
   "execution_count": 29,
   "metadata": {},
   "outputs": [
    {
     "name": "stdout",
     "output_type": "stream",
     "text": [
      "0\n",
      "1\n",
      "2\n",
      "3\n",
      "4\n",
      "5\n",
      "6\n",
      "7\n",
      "8\n",
      "9\n",
      "\n",
      "\n",
      "2\n",
      "4\n",
      "6\n",
      "8\n"
     ]
    }
   ],
   "source": [
    "def my_range(stop, start = 0, step = 1):\n",
    "    for i in range(start, stop, step):\n",
    "        print(i)\n",
    "        \n",
    "my_range(10)\n",
    "print(\"\\n\")\n",
    "my_range(10, 2, 2)"
   ]
  },
  {
   "cell_type": "markdown",
   "metadata": {},
   "source": [
    "##### Returning Values"
   ]
  },
  {
   "cell_type": "code",
   "execution_count": 30,
   "metadata": {},
   "outputs": [
    {
     "data": {
      "text/plain": [
       "100"
      ]
     },
     "execution_count": 30,
     "metadata": {},
     "output_type": "execute_result"
    }
   ],
   "source": [
    "def add_nums(num1, num2):\n",
    "    return num1 + num2\n",
    "\n",
    "add_nums(56, 44)"
   ]
  },
  {
   "cell_type": "markdown",
   "metadata": {},
   "source": [
    "##### *args / **kwargs (keyword arguments)"
   ]
  },
  {
   "cell_type": "code",
   "execution_count": 36,
   "metadata": {},
   "outputs": [
    {
     "name": "stdout",
     "output_type": "stream",
     "text": [
      "These are our positional arguments: 2\n",
      "These are our args: (10, 'megazord')) # only need starts above\n",
      "These are our kwargs: {'names': ['Alex', 'Perry', 'Kelsey'], 'subject': 'Python'}\n"
     ]
    }
   ],
   "source": [
    "#arg stands for arguments, **kwargs stands for keyword arguments\n",
    "# & they can take any number of arguments & keyword arguments \n",
    "#must be last if they are present\n",
    "\n",
    "def print_args_kwargs(num1, *args, **kwargs):\n",
    "    print(f\"These are our positional arguments: {num1}\")\n",
    "    print(f\"These are our args: {args}) # only need starts above\")\n",
    "    print(f\"These are our kwargs: {kwargs}\")\n",
    "          \n",
    "print_args_kwargs(2, 10, \"megazord\", names = ['Alex', 'Perry', 'Kelsey'], subject = 'Python')"
   ]
  },
  {
   "cell_type": "code",
   "execution_count": 41,
   "metadata": {},
   "outputs": [
    {
     "name": "stdout",
     "output_type": "stream",
     "text": [
      "These are our positional arguments: 2\n",
      "These are our args: (10, 'megazord')) # only need starts above\n",
      "These are our kwargs: {'names': ['Alex', 'Perry', 'Kelsey'], 'subject': 'Python'}\n"
     ]
    }
   ],
   "source": [
    "# Write a function that accepts positional arguments, atleast 3 args and at least 2 kwargs and prints out each argument and keyword argument on its own line.\n",
    "\n",
    "\n",
    "# def print_snazzy_stuff(num1, num2, *args, **kwargs):\n",
    "#     print(f\"These are our positional arguments: {num1}\")\n",
    "#     print(f\"These are our positional arguments: {num2}\")\n",
    "#     print(f\"These are our args: {args}) # only need starts above\")\n",
    "#     print(f\"These are our kwargs: {kwargs}\")\n",
    "          \n",
    "# print_args_kwargs(2, 10, \"megazord\", names = ['Alex', 'Perry', 'Kelsey'], subject = 'Python')"
   ]
  },
  {
   "cell_type": "code",
   "execution_count": null,
   "metadata": {},
   "outputs": [],
   "source": [
    "def halloween_time(season, *fun_things, **fav_movies):\n",
    "    print(“This is my positional argument: “)\n",
    "    print(f”my fav time of year is {season}\\n”)\n",
    "    print(“These are my *args: “)\n",
    "    print(“These are the things I like to do: “)\n",
    "    for pumpkins in fun_things:\n",
    "        print(pumpkins)\n",
    "    print(“\\nThese are my **kwargs: “)\n",
    "    print(“These are my fav spooky movies: “)\n",
    "    for key, value in fav_movies.items():\n",
    "        print(f”Genre is {key}“)\n",
    "        print(f”Movie is {value}“)\n",
    "halloween_time(‘Fall’, ‘pumpkin patches’, ‘hiking’,‘carve pumpkings’,‘corn mazes’, possession = ‘The Conjuring’, gore = ‘Saw’, animatedish = ‘Nightmare before Christmas’)"
   ]
  },
  {
   "cell_type": "markdown",
   "metadata": {},
   "source": [
    "##### Docstring"
   ]
  },
  {
   "cell_type": "code",
   "execution_count": 42,
   "metadata": {},
   "outputs": [],
   "source": [
    "#docstring is giving some information about the function\n",
    "\n",
    "def print_names(arr):\n",
    "    \"\"\"\n",
    "    the print_names() function requries a list to be passed as a parameter and will print \n",
    "    the contents of the list. It is expecting a list of strings to be passed into it. \n",
    "    \"\"\"\n",
    "    \n",
    "    for name in arr:\n",
    "        print(name)"
   ]
  },
  {
   "cell_type": "markdown",
   "metadata": {},
   "source": [
    "##### Using a User Function in a Loop"
   ]
  },
  {
   "cell_type": "code",
   "execution_count": null,
   "metadata": {},
   "outputs": [],
   "source": [
    "def print_input(answer):\n",
    "    print(f\"Your Answer is {answer}\")\n",
    "\n",
    "while True:\n",
    "    ask = input(\"What do you want to do today?\")\n",
    "    \n",
    "    print_input(ask)\n",
    "    response = input(\"Do you want to quit?\")\n",
    "    if response.lower().strip() == 'yes':\n",
    "        break"
   ]
  },
  {
   "cell_type": "code",
   "execution_count": 46,
   "metadata": {},
   "outputs": [
    {
     "name": "stdout",
     "output_type": "stream",
     "text": [
      "0\n",
      "2\n",
      "4\n",
      "6\n",
      "8\n",
      "10\n"
     ]
    }
   ],
   "source": [
    "#helper functions are another function that performs a task within another loop or function.\n",
    "#used a lot when that particular utility needs to be used multiple times.\n",
    "\n",
    "def times_two(num):\n",
    "    return num * 2\n",
    "\n",
    "def my_range(stop, start, step = 1):\n",
    "    for i in range(6):\n",
    "        print(times_two(i))\n",
    "        \n",
    "my_range(6,1)"
   ]
  },
  {
   "cell_type": "markdown",
   "metadata": {},
   "source": [
    "## Function Exercises <br>\n",
    "### Exercise 1\n",
    "<p>Write a function that loops through a list of first_names and a list of last_names, combines the two and return a list of full_names</p>"
   ]
  },
  {
   "cell_type": "code",
   "execution_count": 49,
   "metadata": {},
   "outputs": [
    {
     "data": {
      "text/plain": [
       "['John Smith', 'Evan Smith', 'Jordan Williams', 'Max Bell']"
      ]
     },
     "execution_count": 49,
     "metadata": {},
     "output_type": "execute_result"
    }
   ],
   "source": [
    "first_name = ['John', 'Evan', 'Jordan', 'Max']\n",
    "last_name = ['Smith', 'Smith', 'Williams', 'Bell']\n",
    "\n",
    "# Output: ['John Smith', 'Evan Smith', 'Jordan Williams', 'Max Bell']\n",
    "\n",
    "def full_names(first, last):\n",
    "    \"\"\"\n",
    "    Our function full_names is going to be combing the first & last names together and return full names\n",
    "    \"\"\"\n",
    "    \n",
    "    return (first + \" \" + last).title()\n",
    "\n",
    "def names(first_name, last_name):\n",
    "    \n",
    "    fulls = []\n",
    "    \n",
    "    for i in range(len(first_name)):\n",
    "        whole_name = full_names(first_name[i], last_name[i])\n",
    "        fulls.append(whole_name)\n",
    "        \n",
    "    return fulls\n",
    "names(first_name, last_name)"
   ]
  },
  {
   "cell_type": "markdown",
   "metadata": {},
   "source": [
    "### Exercise 2\n",
    "Create a function that alters all values in the given list by subtracting 5 and then doubling them."
   ]
  },
  {
   "cell_type": "code",
   "execution_count": 53,
   "metadata": {},
   "outputs": [
    {
     "ename": "SyntaxError",
     "evalue": "cannot assign to operator (3646753442.py, line 7)",
     "output_type": "error",
     "traceback": [
      "\u001b[0;36m  Input \u001b[0;32mIn [53]\u001b[0;36m\u001b[0m\n\u001b[0;31m    i - 5 = double_nums()\u001b[0m\n\u001b[0m    ^\u001b[0m\n\u001b[0;31mSyntaxError\u001b[0m\u001b[0;31m:\u001b[0m cannot assign to operator\n"
     ]
    }
   ],
   "source": [
    "input_list = [5,10,15,20,3]\n",
    "# output = [0,10,20,30,-4]\n",
    "\n",
    "def sub5_dubs(i):\n",
    "    \n",
    "    return int((i-5)*2)\n",
    "\n",
    "def input_list_modified(input_list):\n",
    "    \n",
    "    subdubs = []\n",
    "\n",
    "    for i in range(len(input_list)):\n",
    "        subdub = sub5_dubs(input_list[i])\n",
    "        subdubs.append(subdub)\n",
    "\n",
    "    return subdubs\n",
    "\n",
    "input_list_modified(input_list)"
   ]
  },
  {
   "cell_type": "markdown",
   "metadata": {},
   "source": [
    "### Exercise 3\n",
    "Create a function that takes in a list of strings and filters out the strings that DO NOT contain vowels. "
   ]
  },
  {
   "cell_type": "code",
   "execution_count": 66,
   "metadata": {},
   "outputs": [
    {
     "ename": "NameError",
     "evalue": "name 'word' is not defined",
     "output_type": "error",
     "traceback": [
      "\u001b[0;31m---------------------------------------------------------------------------\u001b[0m",
      "\u001b[0;31mNameError\u001b[0m                                 Traceback (most recent call last)",
      "Input \u001b[0;32mIn [66]\u001b[0m, in \u001b[0;36m<cell line: 10>\u001b[0;34m()\u001b[0m\n\u001b[1;32m      7\u001b[0m     \u001b[38;5;28mprint\u001b[39m(\u001b[38;5;28mlen\u001b[39m(check))\n\u001b[1;32m      8\u001b[0m     \u001b[38;5;28mprint\u001b[39m(check)\n\u001b[0;32m---> 10\u001b[0m \u001b[38;5;28;01mif\u001b[39;00m \u001b[38;5;28mset\u001b[39m(\u001b[38;5;124m'\u001b[39m\u001b[38;5;124maeiou\u001b[39m\u001b[38;5;124m'\u001b[39m)\u001b[38;5;241m.\u001b[39mintersection(\u001b[43mword\u001b[49m\u001b[38;5;241m.\u001b[39mlower()):\n\u001b[1;32m     11\u001b[0m     \u001b[38;5;28;01mdel\u001b[39;00m(string_list)\n",
      "\u001b[0;31mNameError\u001b[0m: name 'word' is not defined"
     ]
    }
   ],
   "source": [
    "string_list = ['Sheldon','Pnny','Leonard','Hwrd','Rj','Amy','Strt']\n",
    "# output = ['Sheldon','Leonard','Amy']\n",
    "\n",
    "vowels = [\"a\", \"A\", \"E\", \"e\", \"I\", \"i\", \"O\", \"o\", \"U\",\"u\"]\n",
    "def names_no_vowels(string_list, vowels):\n",
    "    check = [each for each in string_list if each in vowels]\n",
    "    print(len(check))\n",
    "    print(check)\n"
   ]
  },
  {
   "cell_type": "markdown",
   "metadata": {},
   "source": [
    "### Exercise 4\n",
    "Create a function that accepts a list as a parameter and returns a dictionary containing the list items as it's keys, and the number of times they appear in the list as the values"
   ]
  },
  {
   "cell_type": "code",
   "execution_count": 71,
   "metadata": {},
   "outputs": [
    {
     "name": "stdout",
     "output_type": "stream",
     "text": [
      "3\n",
      "{'Harry': 3, 'Hermione': 2, 'Ron': 4, 'Dobby': 1, 'Draco': 1, 'Luna': 1}\n"
     ]
    }
   ],
   "source": [
    "example_list = [\"Harry\", 'Hermione','Harry','Ron','Dobby','Draco','Luna','Harry','Hermione','Ron','Ron','Ron']\n",
    "\n",
    "# output = {\n",
    "#     \"Harry\":3,\n",
    "#     \"Hermione\":2,\n",
    "#     \"Ron\":4,\n",
    "#     \"Dobby\":1,\n",
    "#     \"Draco\":1,\n",
    "#     \"Luna\": 1\n",
    "# }\n",
    "\n",
    "example_list.count(\"Harry\")\n",
    "\n",
    "print(example_list.count(\"Harry\"))\n",
    "\n",
    "my_dict = {name:example_list.count(name) for name in example_list}\n",
    "\n",
    "print(my_dict)\n"
   ]
  },
  {
   "cell_type": "markdown",
   "metadata": {},
   "source": [
    "\n",
    "\n",
    "## Scope <br>\n",
    "<p>Scope refers to the ability to access variables, different types of scope include:<br>a) Global<br>b) Function (local)<br>c) Class (local)</p>"
   ]
  },
  {
   "cell_type": "code",
   "execution_count": 117,
   "metadata": {},
   "outputs": [
    {
     "name": "stdout",
     "output_type": "stream",
     "text": [
      "3\n",
      "6\n"
     ]
    }
   ],
   "source": [
    "# placement of variable declaration matters\n",
    "\n",
    "number = 3 # Gloal Variable\n",
    "\n",
    "def myFunc():\n",
    "    num_3 = 6 # Local Function Variable\n",
    "    return num_3\n",
    "\n",
    "print(number)\n",
    "return_num = myFunc()\n",
    "print(return_num)"
   ]
  },
  {
   "cell_type": "markdown",
   "metadata": {},
   "source": [
    "# Homework Exercises"
   ]
  },
  {
   "cell_type": "markdown",
   "metadata": {},
   "source": [
    "## Exercise 1 <br>\n",
    "<p>Given a list as a parameter,write a function that returns a list of numbers that are less than ten</b></i></p><br>\n",
    "<p> For example: Say your input parameter to the function is [1,11,14,5,8,9]...Your output should [1,5,8,9]</p>"
   ]
  },
  {
   "cell_type": "code",
   "execution_count": 1,
   "metadata": {},
   "outputs": [
    {
     "name": "stdout",
     "output_type": "stream",
     "text": [
      "[1, 5, 8, 9]\n"
     ]
    }
   ],
   "source": [
    "# Use the following list - [1,11,14,5,8,9]\n",
    "\n",
    "less_than_ten = []\n",
    "L_1 = [1,11,14,5,8,9]\n",
    "\n",
    "for number in L_1:\n",
    "    if number <= 10:\n",
    "        less_than_ten.append(number)\n",
    "        \n",
    "print(less_than_ten)"
   ]
  },
  {
   "cell_type": "code",
   "execution_count": 2,
   "metadata": {},
   "outputs": [
    {
     "name": "stdout",
     "output_type": "stream",
     "text": [
      "[1, 5, 8, 9]\n"
     ]
    }
   ],
   "source": [
    "less_than_ten2 = [number for number in L_1 if number <= 10]\n",
    "\n",
    "print(less_than_ten2)"
   ]
  },
  {
   "cell_type": "markdown",
   "metadata": {},
   "source": [
    "## Exercise 2 <br>\n",
    "<p>Write a function that takes in two lists and returns the two lists merged together and sorted<br>\n",
    "<b><i>Hint: You can use the .sort() method</i></b></p>"
   ]
  },
  {
   "cell_type": "code",
   "execution_count": 78,
   "metadata": {},
   "outputs": [
    {
     "name": "stdout",
     "output_type": "stream",
     "text": [
      "[1, 2, 3, 4, 5, 6, 7, 8, 10]\n"
     ]
    }
   ],
   "source": [
    "l_1 = [1,2,3,4,5,6]\n",
    "l_2 = [3,4,5,6,7,8,10]\n",
    "\"\"\"\n",
    "writing a function that will merge together l_1 and l_2. The output will be sorted and duplicates will be removed. \n",
    "\"\"\"\n",
    "combined = l_1 + l_2\n",
    "remix = []\n",
    "\n",
    "for number in combined:\n",
    "    if number not in remix:\n",
    "        remix.append(number)\n",
    "\n",
    "print(remix)\n",
    "\n"
   ]
  },
  {
   "cell_type": "code",
   "execution_count": 81,
   "metadata": {},
   "outputs": [
    {
     "ename": "SyntaxError",
     "evalue": "invalid syntax (1835316903.py, line 1)",
     "output_type": "error",
     "traceback": [
      "\u001b[0;36m  Input \u001b[0;32mIn [81]\u001b[0;36m\u001b[0m\n\u001b[0;31m    remix = [number for number in combined if number not in remix remix.append(number)]\u001b[0m\n\u001b[0m                                                                  ^\u001b[0m\n\u001b[0;31mSyntaxError\u001b[0m\u001b[0;31m:\u001b[0m invalid syntax\n"
     ]
    }
   ],
   "source": [
    "# remix = [number for number in combined if number not in remix]\n",
    "\n",
    "# print(remix)\n",
    "\n",
    "# how would I remove dupes from this? Is it possible? This mixed them but didn't sort it or remove dupes. "
   ]
  }
 ],
 "metadata": {
  "kernelspec": {
   "display_name": "Python 3 (ipykernel)",
   "language": "python",
   "name": "python3"
  },
  "language_info": {
   "codemirror_mode": {
    "name": "ipython",
    "version": 3
   },
   "file_extension": ".py",
   "mimetype": "text/x-python",
   "name": "python",
   "nbconvert_exporter": "python",
   "pygments_lexer": "ipython3",
   "version": "3.9.12"
  }
 },
 "nbformat": 4,
 "nbformat_minor": 2
}
